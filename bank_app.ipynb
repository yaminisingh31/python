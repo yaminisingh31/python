{
 "cells": [
  {
   "cell_type": "code",
   "execution_count": 1,
   "metadata": {},
   "outputs": [],
   "source": [
    "user1={'name':'megha','bal':20000,'password':'123@'}\n",
    "user2={'name':'yamini','bal':30000,'password':'234@'}\n",
    "user3={'name':'sunny','bal':40000,'password':'hello'}"
   ]
  },
  {
   "cell_type": "code",
   "execution_count": 2,
   "metadata": {},
   "outputs": [
    {
     "ename": "FileExistsError",
     "evalue": "[WinError 183] Cannot create a file when that file already exists: 'bankwarehouse1'",
     "output_type": "error",
     "traceback": [
      "\u001b[1;31m---------------------------------------------------------------------------\u001b[0m",
      "\u001b[1;31mFileExistsError\u001b[0m                           Traceback (most recent call last)",
      "\u001b[1;32m<ipython-input-2-1ab1677f5170>\u001b[0m in \u001b[0;36m<module>\u001b[1;34m()\u001b[0m\n\u001b[0;32m      1\u001b[0m \u001b[1;33m\u001b[0m\u001b[0m\n\u001b[0;32m      2\u001b[0m \u001b[1;32mimport\u001b[0m \u001b[0mos\u001b[0m\u001b[1;33m\u001b[0m\u001b[0m\n\u001b[1;32m----> 3\u001b[1;33m \u001b[0mos\u001b[0m\u001b[1;33m.\u001b[0m\u001b[0mmkdir\u001b[0m\u001b[1;33m(\u001b[0m\u001b[1;34m'bankwarehouse1'\u001b[0m\u001b[1;33m)\u001b[0m\u001b[1;33m\u001b[0m\u001b[0m\n\u001b[0m",
      "\u001b[1;31mFileExistsError\u001b[0m: [WinError 183] Cannot create a file when that file already exists: 'bankwarehouse1'"
     ]
    }
   ],
   "source": [
    "\n",
    "import os\n",
    "os.mkdir('bankwarehouse1')"
   ]
  },
  {
   "cell_type": "code",
   "execution_count": 3,
   "metadata": {},
   "outputs": [],
   "source": [
    "import shelve\n",
    "db=shelve.open('bankwarehouse1/bank.db',writeback=True)\n",
    "db['1000']=user1\n",
    "db['1002']=user2\n",
    "db['1003']=user3\n",
    "db['last_acc']='1003'\n",
    "db.close()\n",
    "\n"
   ]
  },
  {
   "cell_type": "code",
   "execution_count": null,
   "metadata": {},
   "outputs": [
    {
     "name": "stdout",
     "output_type": "stream",
     "text": [
      "************************************************************************************************************************\n",
      "1.LOGIN\n",
      " 2.SIGNUP\n",
      " 3.EXIT\n",
      "enter your choice:1\n",
      "Enter your account number: 1000\n",
      "Enter your password:123@\n",
      "You have been successfully logged in\n",
      " 1.Debit\n",
      " 2.Credit\n",
      " 3.Check balance\n",
      " 4.Update password\n",
      " 5.Exit\n",
      "Enter your choice:3\n",
      "BALANCE--> 20000\n",
      "************************************************************************************************************************\n",
      " 1.Debit\n",
      " 2.Credit\n",
      " 3.Check balance\n",
      " 4.Update password\n",
      " 5.Exit\n"
     ]
    }
   ],
   "source": [
    "\n",
    "import time\n",
    "def menu(acc_no):\n",
    "    update_log(\"INFO\",\"Application Started\")\n",
    "    s=\"\"\" 1.Debit\\n 2.Credit\\n 3.Check balance\\n 4.Update password\\n 5.Exit\"\"\"\n",
    "    print(s)\n",
    "    ch1=int(input(\"Enter your choice:\"))\n",
    "    if ch1==1:\n",
    "        Debit(acc_no)\n",
    "    elif ch1==2:\n",
    "        Credit(acc_no)\n",
    "    elif ch1==3:\n",
    "        Check_bal(acc_no)\n",
    "    elif ch1==4:\n",
    "        up_passw(acc_no)\n",
    "    else:\n",
    "        main_menu()\n",
    "def Debit(acc_no):\n",
    "    amount=int(input(\"Enter amount to be debited:\"))\n",
    "    update_log(\"INFO\",f\"user has debited {amount} from account {acc_no}\")\n",
    "    db=shelve.open(\"bankwarehouse1/bank.db\",writeback=True)\n",
    "    if amount<=db[acc_no]['bal']:\n",
    "        db[acc_no]['bal']-=amount\n",
    "        print(\"Your current balance is \",db[acc_no]['bal'])\n",
    "    else:\n",
    "        print(\"NO SUFFICIENT BALANCE AVAILABLE!!\")\n",
    "    db.close()\n",
    "    time.sleep(5)\n",
    "    \n",
    "    menu(acc_no)\n",
    "def Credit(acc_no):\n",
    "    db=shelve.open(\"bankwarehouse1/bank.db\",writeback=True)\n",
    "    cr_amt=eval(input(\"enter the amount to be credited:\"))\n",
    "    update_log('INFO',f\"user has credited {cr_amt} to his account {acc_no}\")\n",
    "    if cr_amt>0:\n",
    "        db[acc_no]['bal']+=cr_amt\n",
    "        print(f\"Amount credited to {acc_no} :{cr_amt}\")\n",
    "        print(\"Total amount\",db[acc_no]['bal'])\n",
    "    else:\n",
    "        print(\"Not appropriate\")\n",
    "    db.close()\n",
    "    time.sleep(5)\n",
    "    menu(acc_no)\n",
    "def Check_bal(acc_no):\n",
    "    update_log('INFO',f\"Balance Enquiry by user account {acc_no}\")\n",
    "    db=shelve.open(\"bankwarehouse1/bank.db\")\n",
    "    dataa=db[acc_no]['bal']\n",
    "    print(\"BALANCE-->\",dataa)\n",
    "    db.close()\n",
    "    time.sleep(5)\n",
    "    print(\"*\"*120)\n",
    "    menu(acc_no)\n",
    "def up_passw(acc_no):\n",
    "    update_log('INFO',f\"Password updated by the user account {acc_no}\")\n",
    "    db=shelve.open(\"bankwarehouse1/bank.db\",writeback=True)\n",
    "    from getpass import getpass\n",
    "    new_pass=getpass(\"enter new password:\")\n",
    "    retypepass=getpass(\"Re-type your password:\")\n",
    "   \n",
    "    if new_pass==retypepass:\n",
    "        \n",
    "        print(\"Your password has been changed succesfully!!\")\n",
    "        db[acc_no]['password']=new_pass\n",
    "    else:\n",
    "        print(\"Password does not match\")\n",
    "        up_passw(acc_no)\n",
    "    db.close()\n",
    "    menu(acc_no)\n",
    "def main_menu():\n",
    "    print('*'*120)\n",
    "    s=\"\"\"1.LOGIN\\n 2.SIGNUP\\n 3.EXIT\"\"\"\n",
    "    print(s)\n",
    "    ch=int(input(\"enter your choice:\"))\n",
    "    if ch==1:\n",
    "        login() \n",
    "    elif ch==2:\n",
    "        signup()\n",
    "    else:\n",
    "        db.close()\n",
    "def login():\n",
    "    acc_no=input(\"Enter your account number: \")\n",
    "    passw=input(\"Enter your password:\")\n",
    "    db = shelve.open(\"bankwarehouse1/bank.db\",writeback=True)\n",
    "    \n",
    "        \n",
    "    if acc_no in db and db[acc_no]['password']==passw:\n",
    "        print(\"You have been successfully logged in\")\n",
    "        update_log('STATUS',f\"User logged in to his account {acc_no}\")\n",
    "        menu(acc_no)\n",
    "    else:\n",
    "        print(\"Invaid password!! Try again \")\n",
    "        update_log('WARNING',f\"User tried an invalid password\")\n",
    "    db.close()\n",
    "def signup():\n",
    "    db=shelve.open(\"bankwarehouse1/bank.db\",writeback=True)\n",
    "    name=input(\"Enter your name:\")\n",
    "    bal=eval(input(\"Enter balance:\"))\n",
    "    password=input(\"Enter your password:\")\n",
    "    acc=int(db['last_acc'])\n",
    "    acc=str(acc+1)\n",
    "    db['last_acc']=acc\n",
    "    user={'name':name,'bal':bal,'password':password}\n",
    "    db[acc]=user\n",
    "    print(\"User account created successfully\")\n",
    "    update_log('STATUS',f\"New account has been created {acc}\")\n",
    "    print(\"Note down your account number\",acc)\n",
    "    db.close()    \n",
    "def update_log(logtype,message):\n",
    "    s=f\"{time.ctime()}:{logtype}--{message}\"\n",
    "    fp=open(\"log.txt\",'a')\n",
    "    fp.write(s)\n",
    "    fp.close\n",
    "main_menu()    \n",
    "f=open('log.txt')\n",
    "data=f.read()\n",
    "print(data)\n",
    "f.close()\n",
    "\n",
    "\n",
    "\n"
   ]
  },
  {
   "cell_type": "markdown",
   "metadata": {},
   "source": [
    "# main_m\n",
    ")"
   ]
  },
  {
   "cell_type": "code",
   "execution_count": null,
   "metadata": {},
   "outputs": [],
   "source": [
    "import time\n",
    "time.ctime()"
   ]
  },
  {
   "cell_type": "code",
   "execution_count": null,
   "metadata": {},
   "outputs": [],
   "source": []
  }
 ],
 "metadata": {
  "kernelspec": {
   "display_name": "Python 3",
   "language": "python",
   "name": "python3"
  },
  "language_info": {
   "codemirror_mode": {
    "name": "ipython",
    "version": 3
   },
   "file_extension": ".py",
   "mimetype": "text/x-python",
   "name": "python",
   "nbconvert_exporter": "python",
   "pygments_lexer": "ipython3",
   "version": "3.6.5"
  }
 },
 "nbformat": 4,
 "nbformat_minor": 2
}
